{
 "cells": [
  {
   "cell_type": "code",
   "execution_count": 2,
   "id": "f42b00f8-ce20-44d1-818d-e68c9d8685d9",
   "metadata": {},
   "outputs": [],
   "source": [
    "import numpy as np\n",
    "import pandas as pd\n",
    "from sklearn.tree import DecisionTreeClassifier\n",
    "from sklearn.ensemble import RandomForestClassifier\n",
    "from sklearn.model_selection import train_test_split,GridSearchCV\n",
    "from sklearn.metrics import accuracy_score\n",
    "from xgboost import XGBClassifier\n",
    "import matplotlib.pyplot as plt\n",
    "\n",
    "\n",
    "RANDOM_STATE = 55 ## WE WILL PASS IT TO EVERY SKLEARN CALL SO WE ENSURE REPRODUCIBILITY\n",
    "\n"
   ]
  },
  {
   "cell_type": "markdown",
   "id": "5ca8e492-5b3a-452a-82e1-bd5a3f5d7dbf",
   "metadata": {},
   "source": [
    "# Data Loading and Overview"
   ]
  },
  {
   "cell_type": "code",
   "execution_count": 32,
   "id": "e34b50a2-49d8-436e-8ecf-aebd64ac7f67",
   "metadata": {},
   "outputs": [
    {
     "data": {
      "text/html": [
       "<div>\n",
       "<style scoped>\n",
       "    .dataframe tbody tr th:only-of-type {\n",
       "        vertical-align: middle;\n",
       "    }\n",
       "\n",
       "    .dataframe tbody tr th {\n",
       "        vertical-align: top;\n",
       "    }\n",
       "\n",
       "    .dataframe thead th {\n",
       "        text-align: right;\n",
       "    }\n",
       "</style>\n",
       "<table border=\"1\" class=\"dataframe\">\n",
       "  <thead>\n",
       "    <tr style=\"text-align: right;\">\n",
       "      <th></th>\n",
       "      <th>Age</th>\n",
       "      <th>Sex</th>\n",
       "      <th>ChestPainType</th>\n",
       "      <th>RestingBP</th>\n",
       "      <th>Cholesterol</th>\n",
       "      <th>FastingBS</th>\n",
       "      <th>RestingECG</th>\n",
       "      <th>MaxHR</th>\n",
       "      <th>ExerciseAngina</th>\n",
       "      <th>Oldpeak</th>\n",
       "      <th>ST_Slope</th>\n",
       "      <th>HeartDisease</th>\n",
       "    </tr>\n",
       "  </thead>\n",
       "  <tbody>\n",
       "    <tr>\n",
       "      <th>0</th>\n",
       "      <td>40</td>\n",
       "      <td>M</td>\n",
       "      <td>ATA</td>\n",
       "      <td>140</td>\n",
       "      <td>289</td>\n",
       "      <td>0</td>\n",
       "      <td>Normal</td>\n",
       "      <td>172</td>\n",
       "      <td>N</td>\n",
       "      <td>0.0</td>\n",
       "      <td>Up</td>\n",
       "      <td>0</td>\n",
       "    </tr>\n",
       "    <tr>\n",
       "      <th>1</th>\n",
       "      <td>49</td>\n",
       "      <td>F</td>\n",
       "      <td>NAP</td>\n",
       "      <td>160</td>\n",
       "      <td>180</td>\n",
       "      <td>0</td>\n",
       "      <td>Normal</td>\n",
       "      <td>156</td>\n",
       "      <td>N</td>\n",
       "      <td>1.0</td>\n",
       "      <td>Flat</td>\n",
       "      <td>1</td>\n",
       "    </tr>\n",
       "    <tr>\n",
       "      <th>2</th>\n",
       "      <td>37</td>\n",
       "      <td>M</td>\n",
       "      <td>ATA</td>\n",
       "      <td>130</td>\n",
       "      <td>283</td>\n",
       "      <td>0</td>\n",
       "      <td>ST</td>\n",
       "      <td>98</td>\n",
       "      <td>N</td>\n",
       "      <td>0.0</td>\n",
       "      <td>Up</td>\n",
       "      <td>0</td>\n",
       "    </tr>\n",
       "    <tr>\n",
       "      <th>3</th>\n",
       "      <td>48</td>\n",
       "      <td>F</td>\n",
       "      <td>ASY</td>\n",
       "      <td>138</td>\n",
       "      <td>214</td>\n",
       "      <td>0</td>\n",
       "      <td>Normal</td>\n",
       "      <td>108</td>\n",
       "      <td>Y</td>\n",
       "      <td>1.5</td>\n",
       "      <td>Flat</td>\n",
       "      <td>1</td>\n",
       "    </tr>\n",
       "    <tr>\n",
       "      <th>4</th>\n",
       "      <td>54</td>\n",
       "      <td>M</td>\n",
       "      <td>NAP</td>\n",
       "      <td>150</td>\n",
       "      <td>195</td>\n",
       "      <td>0</td>\n",
       "      <td>Normal</td>\n",
       "      <td>122</td>\n",
       "      <td>N</td>\n",
       "      <td>0.0</td>\n",
       "      <td>Up</td>\n",
       "      <td>0</td>\n",
       "    </tr>\n",
       "  </tbody>\n",
       "</table>\n",
       "</div>"
      ],
      "text/plain": [
       "   Age Sex ChestPainType  RestingBP  Cholesterol  FastingBS RestingECG  MaxHR  \\\n",
       "0   40   M           ATA        140          289          0     Normal    172   \n",
       "1   49   F           NAP        160          180          0     Normal    156   \n",
       "2   37   M           ATA        130          283          0         ST     98   \n",
       "3   48   F           ASY        138          214          0     Normal    108   \n",
       "4   54   M           NAP        150          195          0     Normal    122   \n",
       "\n",
       "  ExerciseAngina  Oldpeak ST_Slope  HeartDisease  \n",
       "0              N      0.0       Up             0  \n",
       "1              N      1.0     Flat             1  \n",
       "2              N      0.0       Up             0  \n",
       "3              Y      1.5     Flat             1  \n",
       "4              N      0.0       Up             0  "
      ]
     },
     "execution_count": 32,
     "metadata": {},
     "output_type": "execute_result"
    }
   ],
   "source": [
    "# load the data set\n",
    "df = pd.read_csv(\"/Users/berekettesfaye/Desktop/ML_projects/decsion_boosted_tree/heart.csv\")\n",
    "# Display the first few rows of the dataset to understand its structure\n",
    "df.head()"
   ]
  },
  {
   "cell_type": "markdown",
   "id": "1c0fd10c-07ba-4e87-b552-d179ff02888b",
   "metadata": {},
   "source": [
    "* Here, we're loading the dataset which contains features related to heart disease. Each row represents a patient, and columns include various health metrics and the target variable HeartDisease."
   ]
  },
  {
   "cell_type": "markdown",
   "id": "1b0edfc9-e46e-4bdf-b40d-f92aeb7a3916",
   "metadata": {},
   "source": [
    "## Data Preprocessing"
   ]
  },
  {
   "cell_type": "markdown",
   "id": "2cce5b28-8a55-4dff-b04f-1b2c6d322950",
   "metadata": {},
   "source": [
    "* We must perform some data engineering before working with the models. There are 5 categorical features, so we will use Pandas to one-hot encode them."
   ]
  },
  {
   "cell_type": "code",
   "execution_count": 33,
   "id": "6a7a15aa-9540-453a-ba3b-c8aabba8beaf",
   "metadata": {},
   "outputs": [],
   "source": [
    "# Identify categorical variables for one-hot encoding\n",
    "cat_variables = ['Sex',\n",
    "                'ChestPainType',\n",
    "                'RestingECG',\n",
    "                'ExerciseAngina',\n",
    "                'ST_Slope'\n",
    "                ]"
   ]
  },
  {
   "cell_type": "code",
   "execution_count": 34,
   "id": "dcb6cfe1-3fac-4e86-b03a-221ed13d0b1d",
   "metadata": {},
   "outputs": [],
   "source": [
    "# Perform one-hot encoding on categorical variables\n",
    "df = pd.get_dummies(data = df,\n",
    "                   prefix = cat_variables,\n",
    "                   columns = cat_variables)"
   ]
  },
  {
   "cell_type": "code",
   "execution_count": 36,
   "id": "c553db5a-8941-4684-8c14-d1493c60eb23",
   "metadata": {},
   "outputs": [
    {
     "data": {
      "text/html": [
       "<div>\n",
       "<style scoped>\n",
       "    .dataframe tbody tr th:only-of-type {\n",
       "        vertical-align: middle;\n",
       "    }\n",
       "\n",
       "    .dataframe tbody tr th {\n",
       "        vertical-align: top;\n",
       "    }\n",
       "\n",
       "    .dataframe thead th {\n",
       "        text-align: right;\n",
       "    }\n",
       "</style>\n",
       "<table border=\"1\" class=\"dataframe\">\n",
       "  <thead>\n",
       "    <tr style=\"text-align: right;\">\n",
       "      <th></th>\n",
       "      <th>Age</th>\n",
       "      <th>RestingBP</th>\n",
       "      <th>Cholesterol</th>\n",
       "      <th>FastingBS</th>\n",
       "      <th>MaxHR</th>\n",
       "      <th>Oldpeak</th>\n",
       "      <th>HeartDisease</th>\n",
       "      <th>Sex_F</th>\n",
       "      <th>Sex_M</th>\n",
       "      <th>ChestPainType_ASY</th>\n",
       "      <th>...</th>\n",
       "      <th>ChestPainType_NAP</th>\n",
       "      <th>ChestPainType_TA</th>\n",
       "      <th>RestingECG_LVH</th>\n",
       "      <th>RestingECG_Normal</th>\n",
       "      <th>RestingECG_ST</th>\n",
       "      <th>ExerciseAngina_N</th>\n",
       "      <th>ExerciseAngina_Y</th>\n",
       "      <th>ST_Slope_Down</th>\n",
       "      <th>ST_Slope_Flat</th>\n",
       "      <th>ST_Slope_Up</th>\n",
       "    </tr>\n",
       "  </thead>\n",
       "  <tbody>\n",
       "    <tr>\n",
       "      <th>0</th>\n",
       "      <td>40</td>\n",
       "      <td>140</td>\n",
       "      <td>289</td>\n",
       "      <td>0</td>\n",
       "      <td>172</td>\n",
       "      <td>0</td>\n",
       "      <td>0</td>\n",
       "      <td>0</td>\n",
       "      <td>1</td>\n",
       "      <td>0</td>\n",
       "      <td>...</td>\n",
       "      <td>0</td>\n",
       "      <td>0</td>\n",
       "      <td>0</td>\n",
       "      <td>1</td>\n",
       "      <td>0</td>\n",
       "      <td>1</td>\n",
       "      <td>0</td>\n",
       "      <td>0</td>\n",
       "      <td>0</td>\n",
       "      <td>1</td>\n",
       "    </tr>\n",
       "    <tr>\n",
       "      <th>1</th>\n",
       "      <td>49</td>\n",
       "      <td>160</td>\n",
       "      <td>180</td>\n",
       "      <td>0</td>\n",
       "      <td>156</td>\n",
       "      <td>1</td>\n",
       "      <td>1</td>\n",
       "      <td>1</td>\n",
       "      <td>0</td>\n",
       "      <td>0</td>\n",
       "      <td>...</td>\n",
       "      <td>1</td>\n",
       "      <td>0</td>\n",
       "      <td>0</td>\n",
       "      <td>1</td>\n",
       "      <td>0</td>\n",
       "      <td>1</td>\n",
       "      <td>0</td>\n",
       "      <td>0</td>\n",
       "      <td>1</td>\n",
       "      <td>0</td>\n",
       "    </tr>\n",
       "    <tr>\n",
       "      <th>2</th>\n",
       "      <td>37</td>\n",
       "      <td>130</td>\n",
       "      <td>283</td>\n",
       "      <td>0</td>\n",
       "      <td>98</td>\n",
       "      <td>0</td>\n",
       "      <td>0</td>\n",
       "      <td>0</td>\n",
       "      <td>1</td>\n",
       "      <td>0</td>\n",
       "      <td>...</td>\n",
       "      <td>0</td>\n",
       "      <td>0</td>\n",
       "      <td>0</td>\n",
       "      <td>0</td>\n",
       "      <td>1</td>\n",
       "      <td>1</td>\n",
       "      <td>0</td>\n",
       "      <td>0</td>\n",
       "      <td>0</td>\n",
       "      <td>1</td>\n",
       "    </tr>\n",
       "    <tr>\n",
       "      <th>3</th>\n",
       "      <td>48</td>\n",
       "      <td>138</td>\n",
       "      <td>214</td>\n",
       "      <td>0</td>\n",
       "      <td>108</td>\n",
       "      <td>1</td>\n",
       "      <td>1</td>\n",
       "      <td>1</td>\n",
       "      <td>0</td>\n",
       "      <td>1</td>\n",
       "      <td>...</td>\n",
       "      <td>0</td>\n",
       "      <td>0</td>\n",
       "      <td>0</td>\n",
       "      <td>1</td>\n",
       "      <td>0</td>\n",
       "      <td>0</td>\n",
       "      <td>1</td>\n",
       "      <td>0</td>\n",
       "      <td>1</td>\n",
       "      <td>0</td>\n",
       "    </tr>\n",
       "    <tr>\n",
       "      <th>4</th>\n",
       "      <td>54</td>\n",
       "      <td>150</td>\n",
       "      <td>195</td>\n",
       "      <td>0</td>\n",
       "      <td>122</td>\n",
       "      <td>0</td>\n",
       "      <td>0</td>\n",
       "      <td>0</td>\n",
       "      <td>1</td>\n",
       "      <td>0</td>\n",
       "      <td>...</td>\n",
       "      <td>1</td>\n",
       "      <td>0</td>\n",
       "      <td>0</td>\n",
       "      <td>1</td>\n",
       "      <td>0</td>\n",
       "      <td>1</td>\n",
       "      <td>0</td>\n",
       "      <td>0</td>\n",
       "      <td>0</td>\n",
       "      <td>1</td>\n",
       "    </tr>\n",
       "  </tbody>\n",
       "</table>\n",
       "<p>5 rows × 21 columns</p>\n",
       "</div>"
      ],
      "text/plain": [
       "   Age  RestingBP  Cholesterol  FastingBS  MaxHR  Oldpeak  HeartDisease  \\\n",
       "0   40        140          289          0    172        0             0   \n",
       "1   49        160          180          0    156        1             1   \n",
       "2   37        130          283          0     98        0             0   \n",
       "3   48        138          214          0    108        1             1   \n",
       "4   54        150          195          0    122        0             0   \n",
       "\n",
       "   Sex_F  Sex_M  ChestPainType_ASY  ...  ChestPainType_NAP  ChestPainType_TA  \\\n",
       "0      0      1                  0  ...                  0                 0   \n",
       "1      1      0                  0  ...                  1                 0   \n",
       "2      0      1                  0  ...                  0                 0   \n",
       "3      1      0                  1  ...                  0                 0   \n",
       "4      0      1                  0  ...                  1                 0   \n",
       "\n",
       "   RestingECG_LVH  RestingECG_Normal  RestingECG_ST  ExerciseAngina_N  \\\n",
       "0               0                  1              0                 1   \n",
       "1               0                  1              0                 1   \n",
       "2               0                  0              1                 1   \n",
       "3               0                  1              0                 0   \n",
       "4               0                  1              0                 1   \n",
       "\n",
       "   ExerciseAngina_Y  ST_Slope_Down  ST_Slope_Flat  ST_Slope_Up  \n",
       "0                 0              0              0            1  \n",
       "1                 0              0              1            0  \n",
       "2                 0              0              0            1  \n",
       "3                 1              0              1            0  \n",
       "4                 0              0              0            1  \n",
       "\n",
       "[5 rows x 21 columns]"
      ]
     },
     "execution_count": 36,
     "metadata": {},
     "output_type": "execute_result"
    }
   ],
   "source": [
    "# Convert boolean values to integers for consistency\n",
    "df = df.astype(int)\n",
    "\n",
    "# Display the first few rows of the modified dataset\n",
    "df.head()"
   ]
  },
  {
   "cell_type": "markdown",
   "id": "9164c8c3-e30a-45ee-9277-97cb5d024c51",
   "metadata": {},
   "source": [
    "## One-hot encoding\n",
    "\n",
    "* One-hot encoding is used to convert categorical variables into a format that can be provided to ML algorithms to do a better job in prediction. Here, boolean values are forced to integers for clarity in the dataset."
   ]
  },
  {
   "cell_type": "markdown",
   "id": "beb0a3c5-6f24-4e82-bfa8-5d792807e359",
   "metadata": {},
   "source": [
    "* We started with 11 features. Let's see how many feature variables we have after one-hot encoding."
   ]
  },
  {
   "cell_type": "code",
   "execution_count": 37,
   "id": "6291aed0-3e06-4c5a-ba41-17aa1e40997d",
   "metadata": {},
   "outputs": [
    {
     "name": "stdout",
     "output_type": "stream",
     "text": [
      "20\n",
      "train samples: 734\n",
      "validation samples: 184\n"
     ]
    }
   ],
   "source": [
    "# Identify the target variable and separate it from the features\n",
    "features = [x for x in df.columns if x != 'HeartDisease']\n",
    "\n",
    "# Display the number of features after one-hot encoding\n",
    "print(len(features))\n",
    "\n",
    "# Split the dataset into training and testing sets\n",
    "X_train, X_test, y_train, y_test = train_test_split(df[features], df['HeartDisease'], test_size=0.2, random_state=RANDOM_STATE)\n",
    "\n",
    "# Output the number of samples in the training and testing sets\n",
    "print(f'train samples: {len(X_train)}')\n",
    "print(f'validation samples: {len(X_test)}')"
   ]
  },
  {
   "cell_type": "markdown",
   "id": "82448f34-9916-4b8d-9783-6e8b8657cfc6",
   "metadata": {},
   "source": [
    "* After preprocessing, the dataset is split into training and testing sets to evaluate the performance of different models. Here, 80% of the data is used for training, and 20% is set aside for testing."
   ]
  },
  {
   "cell_type": "markdown",
   "id": "4ad2e70b-5821-473d-8140-8ff25507ecfc",
   "metadata": {},
   "source": [
    "## Decision Tree Model\n",
    "### Model Initialization and Hyperparameter Tuning"
   ]
  },
  {
   "cell_type": "code",
   "execution_count": null,
   "id": "99d8e6cd-ef06-46d4-8756-a76fd84bf03a",
   "metadata": {},
   "outputs": [],
   "source": [
    "# Initialize the Decision Tree model\n",
    "decision_model = DecisionTreeClassifier(random_state=RANDOM_STATE)\n",
    "\n",
    "# Define the hyperparameter search space\n",
    "search_values = {\n",
    "    'criterion': ['gini', 'entropy'],\n",
    "    'min_samples_split': [2, 10, 30, 50, 100, 200, 300, 700],\n",
    "    'max_depth': [1, 2, 3, 4, 5, 16, 32, 64, None]  # None means no limit on depth\n",
    "}\n",
    "\n",
    "# Use GridSearchCV to find the best hyperparameters\n",
    "gs_decision_tree = GridSearchCV(\n",
    "    estimator=decision_model,\n",
    "    param_grid=search_values,\n",
    "    cv=5,  # Use 5-fold cross-validation\n",
    "    scoring='accuracy',\n",
    "    verbose=3\n",
    ")\n",
    "\n",
    "# Fit the model to the training data\n",
    "gs_decision_tree.fit(X_train, y_train)\n",
    "\n",
    "# Output the best estimator found by GridSearchCV\n",
    "print(gs_decision_tree.best_estimator_)\n"
   ]
  },
  {
   "cell_type": "markdown",
   "id": "c5522f35-8aa3-4b84-b64e-13310d9b9c42",
   "metadata": {},
   "source": [
    "## Evaluation"
   ]
  },
  {
   "cell_type": "code",
   "execution_count": 39,
   "id": "47341bef-7128-4241-8035-e255fa35167f",
   "metadata": {},
   "outputs": [
    {
     "name": "stdout",
     "output_type": "stream",
     "text": [
      "Metrics train:\n",
      "\tAccuracy score: 0.8815\n",
      "Metrics validation:\n",
      "\tAccuracy score: 0.8641\n"
     ]
    }
   ],
   "source": [
    "# Evaluate the model on the training and testing sets\n",
    "print(f\"Metrics train:\\n\\tAccuracy score: {accuracy_score(gs_decision_tree.best_estimator_.predict(X_train), y_train):.4f}\")\n",
    "print(f\"Metrics validation:\\n\\tAccuracy score: {accuracy_score(gs_decision_tree.best_estimator_.predict(X_test), y_test):.4f}\")\n"
   ]
  },
  {
   "cell_type": "markdown",
   "id": "4cce860e-dfd0-47a8-9c04-a99c8f48f8f4",
   "metadata": {},
   "source": [
    "* In this section, a Decision Tree model is trained using GridSearchCV to find the optimal hyperparameters. The performance is evaluated using accuracy on both the training and testing sets. From the accuracy i got, it shows that the model is not overfitting but it has high bias , this result could be because am descision tree next i will try using random forest to try if i can fix the underfitting part since i have an option to train ensemble of trees"
   ]
  },
  {
   "cell_type": "markdown",
   "id": "556179d7-8cca-4d9e-895d-c31bf844776b",
   "metadata": {},
   "source": [
    "## Random Forest Model\n",
    "\n",
    "### Model Initialization and Hyperparameter Tuning"
   ]
  },
  {
   "cell_type": "code",
   "execution_count": null,
   "id": "facbeb6a-9b3d-424f-903f-55724c205e06",
   "metadata": {},
   "outputs": [],
   "source": [
    "# Initialize the Random Forest model\n",
    "random_forest_model = RandomForestClassifier(random_state=RANDOM_STATE)\n",
    "\n",
    "# Define the hyperparameter search space\n",
    "search_values = {\n",
    "    'criterion': ['entropy'],\n",
    "    'min_samples_split': [2, 10, 30, 50, 100, 200, 300, 700],\n",
    "    'max_depth': [2, 4, 8, 16, 32, 64, None],\n",
    "    'n_estimators': [10, 50, 100, 500]\n",
    "}\n",
    "\n",
    "# Use GridSearchCV to find the best hyperparameters\n",
    "gs_random_forest = GridSearchCV(\n",
    "    estimator=random_forest_model,\n",
    "    param_grid=search_values,\n",
    "    scoring='accuracy',\n",
    "    cv=5,\n",
    "    verbose=3\n",
    ")\n",
    "\n",
    "# Fit the model to the training data\n",
    "gs_random_forest.fit(X_train, y_train)\n",
    "\n",
    "# Output the best estimator found by GridSearchCV\n",
    "print(gs_random_forest.best_estimator_)\n"
   ]
  },
  {
   "cell_type": "markdown",
   "id": "8af11afa-729e-4d68-b1f7-9b5d7d02611d",
   "metadata": {},
   "source": [
    "## Evaluation"
   ]
  },
  {
   "cell_type": "code",
   "execution_count": 41,
   "id": "29faf0bd-6943-4fe6-a571-bdd25a9cf868",
   "metadata": {},
   "outputs": [
    {
     "name": "stdout",
     "output_type": "stream",
     "text": [
      "Metrics train:\n",
      "\tAccuracy score: 0.8869\n",
      "Metrics validation:\n",
      "\tAccuracy score: 0.8859\n"
     ]
    }
   ],
   "source": [
    "# Evaluate the model on the training and testing sets\n",
    "best_model = gs_random_forest.best_estimator_\n",
    "print(f\"Metrics train:\\n\\tAccuracy score: {accuracy_score(best_model.predict(X_train), y_train):.4f}\")\n",
    "print(f\"Metrics validation:\\n\\tAccuracy score: {accuracy_score(best_model.predict(X_test), y_test):.4f}\")\n"
   ]
  },
  {
   "cell_type": "markdown",
   "id": "ed3b9d08-6890-4497-ba0f-a12d2fa5782f",
   "metadata": {},
   "source": [
    "* The Random Forest model is also optimized using 'GridSearchCV' . The accuracy of the model on both training and testing sets is good even it does better on the validation set but still on the train set its not doing good .my aim is to get move than 90 % accuracy so next i will try XGboostclassifier"
   ]
  },
  {
   "cell_type": "markdown",
   "id": "6938fb24-aa38-4960-945c-83e747aec3c4",
   "metadata": {},
   "source": [
    "## XGBoost Model\n",
    "\n",
    "### Data Splitting for XGBoost"
   ]
  },
  {
   "cell_type": "code",
   "execution_count": null,
   "id": "7bfe6f65-6b50-4743-b3f0-98348151efa0",
   "metadata": {},
   "outputs": [],
   "source": []
  },
  {
   "cell_type": "code",
   "execution_count": 43,
   "id": "b27a7638-6990-4ae6-9ce6-fadb5cbdb118",
   "metadata": {},
   "outputs": [],
   "source": [
    "# Split the training data for XGBoost\n",
    "n = int(len(X_train) * 0.8)  # 80% for training and 20% for validation\n",
    "X_train_fit, X_train_val, y_train_fit, y_train_val = X_train[:n], X_train[n:], y_train[:n], y_train[n:]\n"
   ]
  },
  {
   "cell_type": "markdown",
   "id": "6eb90642-2e37-4187-ab02-85c949eed419",
   "metadata": {},
   "source": [
    "* XGBoost requires a validation set during training to evaluate performance and stop early if no improvement is observed. Here, the training set is further split into training and validation sets."
   ]
  },
  {
   "cell_type": "markdown",
   "id": "d7ebb83f-29c9-4e93-8a10-2ab577a349e2",
   "metadata": {},
   "source": [
    "### Model Initialization and Training"
   ]
  },
  {
   "cell_type": "code",
   "execution_count": null,
   "id": "b5d5e65a-0d4a-4f97-b390-1312fad05a5f",
   "metadata": {},
   "outputs": [],
   "source": [
    "# Initialize the XGBoost model\n",
    "xgb_model = XGBClassifier(n_estimators=500, learning_rate=0.1, verbosity=1, random_state=RANDOM_STATE, early_stopping_rounds=10)\n",
    "\n",
    "# Output the XGBoost model configuration\n",
    "print(xgb_model)\n",
    "\n",
    "# Fit the model to the training data with early stopping\n",
    "xgb_model.fit(X_train_fit, y_train_fit, eval_set=[(X_train_val, y_train_val)])\n"
   ]
  },
  {
   "cell_type": "markdown",
   "id": "ca99e7e8-e072-4509-b2f2-ab51201fb8d0",
   "metadata": {},
   "source": [
    "## Evaluation"
   ]
  },
  {
   "cell_type": "code",
   "execution_count": 46,
   "id": "9ba86275-67a7-4a76-8ba2-a4ddf7c94f19",
   "metadata": {},
   "outputs": [
    {
     "name": "stdout",
     "output_type": "stream",
     "text": [
      "Metrics train:\n",
      "\tAccuracy score: 0.9292\n",
      "Metrics test:\n",
      "\tAccuracy score: 0.8859\n"
     ]
    }
   ],
   "source": [
    "# Evaluate the model on the training and testing sets\n",
    "print(f\"Metrics train:\\n\\tAccuracy score: {accuracy_score(xgb_model.predict(X_train), y_train):.4f}\\nMetrics test:\\n\\tAccuracy score: {accuracy_score(xgb_model.predict(X_test), y_test):.4f}\")\n"
   ]
  },
  {
   "cell_type": "markdown",
   "id": "e72e0b5b-1f15-42e9-b842-379734be2870",
   "metadata": {},
   "source": [
    "* XGBoost is a powerful boosting algorithm that often performs well on a variety of tasks. The accuracy on the training and testing sets is is really good as i expected i got more than 90 % accuracy on the training data and it also have the same amount of accuracy on the validation set\n",
    "\n"
   ]
  },
  {
   "cell_type": "markdown",
   "id": "e9fbae47-5edf-4106-bc06-b9441817b186",
   "metadata": {},
   "source": [
    "## Conclusion\n",
    "\n",
    "* By applying Decision Tree, Random Forest, and XGBoost models to the dataset, we have explored different ways to predict heart disease. Each model's performance is evaluated based on accuracy, and the results suggest that XGBoost is the model which is more effective for this specific task. XGBoost, with its advanced boosting techniques, generally shows improved accuracy and generalization."
   ]
  },
  {
   "cell_type": "code",
   "execution_count": null,
   "id": "38cfb4fc-f174-44bf-89c6-aa420bd90eca",
   "metadata": {},
   "outputs": [],
   "source": []
  },
  {
   "cell_type": "code",
   "execution_count": null,
   "id": "8494b7be-b6b2-4bbc-9c28-6b8a21d446cf",
   "metadata": {},
   "outputs": [],
   "source": []
  }
 ],
 "metadata": {
  "kernelspec": {
   "display_name": "Python 3 (ipykernel)",
   "language": "python",
   "name": "python3"
  },
  "language_info": {
   "codemirror_mode": {
    "name": "ipython",
    "version": 3
   },
   "file_extension": ".py",
   "mimetype": "text/x-python",
   "name": "python",
   "nbconvert_exporter": "python",
   "pygments_lexer": "ipython3",
   "version": "3.11.5"
  }
 },
 "nbformat": 4,
 "nbformat_minor": 5
}
